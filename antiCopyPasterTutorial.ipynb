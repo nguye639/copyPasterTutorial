{
 "cells": [
  {
   "cell_type": "markdown",
   "metadata": {},
   "source": [
    "# Import Libraries"
   ]
  },
  {
   "cell_type": "code",
   "execution_count": 40,
   "metadata": {},
   "outputs": [],
   "source": [
    "import pandas as pd\n",
    "import numpy as np\n",
    "import matplotlib.pyplot as plt\n",
    "import sklearn\n",
    "import tensorflow as tf"
   ]
  },
  {
   "cell_type": "markdown",
   "metadata": {},
   "source": [
    "# Load Data"
   ]
  },
  {
   "cell_type": "code",
   "execution_count": 2,
   "metadata": {},
   "outputs": [],
   "source": [
    "metrics = pd.read_csv('metricData.zip', index_col=0)"
   ]
  },
  {
   "cell_type": "code",
   "execution_count": 3,
   "metadata": {},
   "outputs": [
    {
     "data": {
      "text/html": [
       "<div>\n",
       "<style scoped>\n",
       "    .dataframe tbody tr th:only-of-type {\n",
       "        vertical-align: middle;\n",
       "    }\n",
       "\n",
       "    .dataframe tbody tr th {\n",
       "        vertical-align: top;\n",
       "    }\n",
       "\n",
       "    .dataframe thead th {\n",
       "        text-align: right;\n",
       "    }\n",
       "</style>\n",
       "<table border=\"1\" class=\"dataframe\">\n",
       "  <thead>\n",
       "    <tr style=\"text-align: right;\">\n",
       "      <th></th>\n",
       "      <th>TotalLinesOfCode</th>\n",
       "      <th>TotalSymbols</th>\n",
       "      <th>SymbolsPerLine</th>\n",
       "      <th>Area</th>\n",
       "      <th>AreaPerLine</th>\n",
       "      <th>TotalConnectivity</th>\n",
       "      <th>TotalConnectivityPerLine</th>\n",
       "      <th>FieldConnectivity</th>\n",
       "      <th>FieldConnectivityPerLine</th>\n",
       "      <th>MethodConnectivity</th>\n",
       "      <th>...</th>\n",
       "      <th>KeywordLongCountPerLine</th>\n",
       "      <th>KeywordStrictfpTotalCount</th>\n",
       "      <th>KeywordStrictfpCountPerLine</th>\n",
       "      <th>KeywordFloatTotalCount</th>\n",
       "      <th>KeywordFloatCountPerLine</th>\n",
       "      <th>KeywordSuperTotalCount</th>\n",
       "      <th>KeywordSuperCountPerLine</th>\n",
       "      <th>KeywordWhileTotalCount</th>\n",
       "      <th>KeywordWhileCountPerLine</th>\n",
       "      <th>label</th>\n",
       "    </tr>\n",
       "  </thead>\n",
       "  <tbody>\n",
       "    <tr>\n",
       "      <th>0</th>\n",
       "      <td>25.0</td>\n",
       "      <td>1127.0</td>\n",
       "      <td>45.080000</td>\n",
       "      <td>63.0</td>\n",
       "      <td>2.520000</td>\n",
       "      <td>1.0</td>\n",
       "      <td>0.033333</td>\n",
       "      <td>1.0</td>\n",
       "      <td>0.033333</td>\n",
       "      <td>0.0</td>\n",
       "      <td>...</td>\n",
       "      <td>0.0</td>\n",
       "      <td>0.0</td>\n",
       "      <td>0.0</td>\n",
       "      <td>0.0</td>\n",
       "      <td>0.0</td>\n",
       "      <td>0.0</td>\n",
       "      <td>0.0</td>\n",
       "      <td>0.0</td>\n",
       "      <td>0.0</td>\n",
       "      <td>0</td>\n",
       "    </tr>\n",
       "    <tr>\n",
       "      <th>1</th>\n",
       "      <td>6.0</td>\n",
       "      <td>170.0</td>\n",
       "      <td>28.333333</td>\n",
       "      <td>1.0</td>\n",
       "      <td>0.166667</td>\n",
       "      <td>0.0</td>\n",
       "      <td>0.000000</td>\n",
       "      <td>0.0</td>\n",
       "      <td>0.000000</td>\n",
       "      <td>0.0</td>\n",
       "      <td>...</td>\n",
       "      <td>0.0</td>\n",
       "      <td>0.0</td>\n",
       "      <td>0.0</td>\n",
       "      <td>0.0</td>\n",
       "      <td>0.0</td>\n",
       "      <td>0.0</td>\n",
       "      <td>0.0</td>\n",
       "      <td>0.0</td>\n",
       "      <td>0.0</td>\n",
       "      <td>0</td>\n",
       "    </tr>\n",
       "    <tr>\n",
       "      <th>2</th>\n",
       "      <td>2.0</td>\n",
       "      <td>39.0</td>\n",
       "      <td>19.500000</td>\n",
       "      <td>0.0</td>\n",
       "      <td>0.000000</td>\n",
       "      <td>2.0</td>\n",
       "      <td>1.000000</td>\n",
       "      <td>1.0</td>\n",
       "      <td>0.500000</td>\n",
       "      <td>1.0</td>\n",
       "      <td>...</td>\n",
       "      <td>0.0</td>\n",
       "      <td>0.0</td>\n",
       "      <td>0.0</td>\n",
       "      <td>0.0</td>\n",
       "      <td>0.0</td>\n",
       "      <td>0.0</td>\n",
       "      <td>0.0</td>\n",
       "      <td>0.0</td>\n",
       "      <td>0.0</td>\n",
       "      <td>0</td>\n",
       "    </tr>\n",
       "    <tr>\n",
       "      <th>3</th>\n",
       "      <td>6.0</td>\n",
       "      <td>223.0</td>\n",
       "      <td>37.166667</td>\n",
       "      <td>3.0</td>\n",
       "      <td>0.500000</td>\n",
       "      <td>1.0</td>\n",
       "      <td>0.200000</td>\n",
       "      <td>1.0</td>\n",
       "      <td>0.200000</td>\n",
       "      <td>0.0</td>\n",
       "      <td>...</td>\n",
       "      <td>0.0</td>\n",
       "      <td>0.0</td>\n",
       "      <td>0.0</td>\n",
       "      <td>0.0</td>\n",
       "      <td>0.0</td>\n",
       "      <td>0.0</td>\n",
       "      <td>0.0</td>\n",
       "      <td>0.0</td>\n",
       "      <td>0.0</td>\n",
       "      <td>0</td>\n",
       "    </tr>\n",
       "    <tr>\n",
       "      <th>4</th>\n",
       "      <td>2.0</td>\n",
       "      <td>111.0</td>\n",
       "      <td>55.500000</td>\n",
       "      <td>0.0</td>\n",
       "      <td>0.000000</td>\n",
       "      <td>1.0</td>\n",
       "      <td>0.333333</td>\n",
       "      <td>1.0</td>\n",
       "      <td>0.333333</td>\n",
       "      <td>0.0</td>\n",
       "      <td>...</td>\n",
       "      <td>0.0</td>\n",
       "      <td>0.0</td>\n",
       "      <td>0.0</td>\n",
       "      <td>0.0</td>\n",
       "      <td>0.0</td>\n",
       "      <td>0.0</td>\n",
       "      <td>0.0</td>\n",
       "      <td>0.0</td>\n",
       "      <td>0.0</td>\n",
       "      <td>0</td>\n",
       "    </tr>\n",
       "  </tbody>\n",
       "</table>\n",
       "<p>5 rows × 79 columns</p>\n",
       "</div>"
      ],
      "text/plain": [
       "   TotalLinesOfCode  TotalSymbols  SymbolsPerLine  Area  AreaPerLine  \\\n",
       "0              25.0        1127.0       45.080000  63.0     2.520000   \n",
       "1               6.0         170.0       28.333333   1.0     0.166667   \n",
       "2               2.0          39.0       19.500000   0.0     0.000000   \n",
       "3               6.0         223.0       37.166667   3.0     0.500000   \n",
       "4               2.0         111.0       55.500000   0.0     0.000000   \n",
       "\n",
       "   TotalConnectivity  TotalConnectivityPerLine  FieldConnectivity  \\\n",
       "0                1.0                  0.033333                1.0   \n",
       "1                0.0                  0.000000                0.0   \n",
       "2                2.0                  1.000000                1.0   \n",
       "3                1.0                  0.200000                1.0   \n",
       "4                1.0                  0.333333                1.0   \n",
       "\n",
       "   FieldConnectivityPerLine  MethodConnectivity  ...  KeywordLongCountPerLine  \\\n",
       "0                  0.033333                 0.0  ...                      0.0   \n",
       "1                  0.000000                 0.0  ...                      0.0   \n",
       "2                  0.500000                 1.0  ...                      0.0   \n",
       "3                  0.200000                 0.0  ...                      0.0   \n",
       "4                  0.333333                 0.0  ...                      0.0   \n",
       "\n",
       "   KeywordStrictfpTotalCount  KeywordStrictfpCountPerLine  \\\n",
       "0                        0.0                          0.0   \n",
       "1                        0.0                          0.0   \n",
       "2                        0.0                          0.0   \n",
       "3                        0.0                          0.0   \n",
       "4                        0.0                          0.0   \n",
       "\n",
       "   KeywordFloatTotalCount  KeywordFloatCountPerLine  KeywordSuperTotalCount  \\\n",
       "0                     0.0                       0.0                     0.0   \n",
       "1                     0.0                       0.0                     0.0   \n",
       "2                     0.0                       0.0                     0.0   \n",
       "3                     0.0                       0.0                     0.0   \n",
       "4                     0.0                       0.0                     0.0   \n",
       "\n",
       "   KeywordSuperCountPerLine  KeywordWhileTotalCount  KeywordWhileCountPerLine  \\\n",
       "0                       0.0                     0.0                       0.0   \n",
       "1                       0.0                     0.0                       0.0   \n",
       "2                       0.0                     0.0                       0.0   \n",
       "3                       0.0                     0.0                       0.0   \n",
       "4                       0.0                     0.0                       0.0   \n",
       "\n",
       "   label  \n",
       "0      0  \n",
       "1      0  \n",
       "2      0  \n",
       "3      0  \n",
       "4      0  \n",
       "\n",
       "[5 rows x 79 columns]"
      ]
     },
     "execution_count": 3,
     "metadata": {},
     "output_type": "execute_result"
    }
   ],
   "source": [
    "metrics.head()"
   ]
  },
  {
   "cell_type": "markdown",
   "metadata": {},
   "source": [
    "# Class Imbalance"
   ]
  },
  {
   "cell_type": "code",
   "execution_count": 12,
   "metadata": {},
   "outputs": [
    {
     "data": {
      "image/png": "[encoded data removed]",
      "text/plain": [
       "<Figure size 432x288 with 1 Axes>"
      ]
     },
     "metadata": {
      "needs_background": "light"
     },
     "output_type": "display_data"
    }
   ],
   "source": [
    "positives = metrics[metrics[\"label\"] == 1]\n",
    "negatives = metrics[metrics[\"label\"] == 0]\n",
    "\n",
    "plt.bar([\"Positive\",\"Negative\"],[len(positives),len(negatives)]);"
   ]
  },
  {
   "cell_type": "code",
   "execution_count": 15,
   "metadata": {},
   "outputs": [
    {
     "data": {
      "image/png": "[encoded data removed]",
      "text/plain": [
       "<Figure size 432x288 with 1 Axes>"
      ]
     },
     "metadata": {
      "needs_background": "light"
     },
     "output_type": "display_data"
    }
   ],
   "source": [
    "balanceNegatives = negatives.sample(frac=1)[:len(positives)]\n",
    "\n",
    "plt.bar([\"Positive\",\"Negative\"],[len(positives),len(balanceNegatives)]);"
   ]
  },
  {
   "cell_type": "code",
   "execution_count": 18,
   "metadata": {},
   "outputs": [],
   "source": [
    "balanceMetrics = pd.concat([positives,balanceNegatives]).sample(frac = 1)"
   ]
  },
  {
   "cell_type": "markdown",
   "metadata": {},
   "source": [
    "# Data Processing"
   ]
  },
  {
   "cell_type": "code",
   "execution_count": 30,
   "metadata": {},
   "outputs": [],
   "source": [
    "from sklearn.preprocessing import StandardScaler"
   ]
  },
  {
   "cell_type": "code",
   "execution_count": 21,
   "metadata": {},
   "outputs": [],
   "source": [
    "features = balanceMetrics.iloc[:,:-1]\n",
    "labels = balanceMetrics.iloc[:,-1]"
   ]
  },
  {
   "cell_type": "code",
   "execution_count": 42,
   "metadata": {},
   "outputs": [],
   "source": [
    "trainX = features.iloc[:int(.8*len(features))]\n",
    "trainY = labels.iloc[:int(.8*len(features))]\n",
    "\n",
    "testX = features.iloc[int(.8*len(features)):]\n",
    "testY = labels.iloc[int(.8*len(features)):]"
   ]
  },
  {
   "cell_type": "code",
   "execution_count": 43,
   "metadata": {},
   "outputs": [],
   "source": [
    "scaler = StandardScaler()\n",
    "scaler.fit(trainX)\n",
    "trainX = scaler.transform(trainX)\n",
    "testX = scaler.transform(testX)\n"
   ]
  },
  {
   "cell_type": "code",
   "execution_count": 44,
   "metadata": {},
   "outputs": [
    {
     "name": "stderr",
     "output_type": "stream",
     "text": [
      "/var/folders/fr/03zv9zcj7j146mrr4jsb58kw0000gn/T/ipykernel_19821/1448998680.py:3: FutureWarning: Support for multi-dimensional indexing (e.g. `obj[:, None]`) is deprecated and will be removed in a future version.  Convert to a numpy array before indexing instead.\n",
      "  trainY = trainY[..., None]\n",
      "/var/folders/fr/03zv9zcj7j146mrr4jsb58kw0000gn/T/ipykernel_19821/1448998680.py:6: FutureWarning: Support for multi-dimensional indexing (e.g. `obj[:, None]`) is deprecated and will be removed in a future version.  Convert to a numpy array before indexing instead.\n",
      "  testY = testY[..., None]\n"
     ]
    }
   ],
   "source": [
    "#Reshape data for CNN\n",
    "trainX = trainX[..., None]\n",
    "trainY = trainY[..., None]\n",
    "\n",
    "testX = testX[..., None]\n",
    "testY = testY[..., None]"
   ]
  },
  {
   "cell_type": "markdown",
   "metadata": {},
   "source": [
    "# Model Creation"
   ]
  },
  {
   "cell_type": "code",
   "execution_count": 33,
   "metadata": {},
   "outputs": [],
   "source": [
    "from keras.models import Sequential\n",
    "from keras.layers import Dense\n",
    "from keras.layers import Flatten\n",
    "from keras.layers import Dropout\n",
    "from tensorflow.keras import layers, models\n",
    "from keras.layers.convolutional import Conv1D\n",
    "from keras.layers.convolutional import MaxPooling1D"
   ]
  },
  {
   "cell_type": "code",
   "execution_count": 46,
   "metadata": {},
   "outputs": [
    {
     "name": "stdout",
     "output_type": "stream",
     "text": [
      "Epoch 1/15\n",
      "39/39 [==============================] - 3s 30ms/step - loss: 0.6891 - auc_2: 0.5566 - precision_at_recall_2: 0.5225\n",
      "Epoch 2/15\n",
      "39/39 [==============================] - 1s 30ms/step - loss: 0.6661 - auc_2: 0.6340 - precision_at_recall_2: 0.5420\n",
      "Epoch 3/15\n",
      "39/39 [==============================] - 1s 27ms/step - loss: 0.6306 - auc_2: 0.6967 - precision_at_recall_2: 0.5900\n",
      "Epoch 4/15\n",
      "39/39 [==============================] - 1s 27ms/step - loss: 0.6050 - auc_2: 0.7320 - precision_at_recall_2: 0.6172\n",
      "Epoch 5/15\n",
      "39/39 [==============================] - 1s 29ms/step - loss: 0.5882 - auc_2: 0.7570 - precision_at_recall_2: 0.6364\n",
      "Epoch 6/15\n",
      "39/39 [==============================] - 1s 26ms/step - loss: 0.5812 - auc_2: 0.7653 - precision_at_recall_2: 0.6463\n",
      "Epoch 7/15\n",
      "39/39 [==============================] - 1s 26ms/step - loss: 0.5604 - auc_2: 0.7838 - precision_at_recall_2: 0.6582\n",
      "Epoch 8/15\n",
      "39/39 [==============================] - 1s 26ms/step - loss: 0.5562 - auc_2: 0.7897 - precision_at_recall_2: 0.6667\n",
      "Epoch 9/15\n",
      "39/39 [==============================] - 1s 28ms/step - loss: 0.5397 - auc_2: 0.8117 - precision_at_recall_2: 0.6846\n",
      "Epoch 10/15\n",
      "39/39 [==============================] - 1s 32ms/step - loss: 0.5272 - auc_2: 0.8215 - precision_at_recall_2: 0.6976\n",
      "Epoch 11/15\n",
      "39/39 [==============================] - 1s 34ms/step - loss: 0.5207 - auc_2: 0.8261 - precision_at_recall_2: 0.6995\n",
      "Epoch 12/15\n",
      "39/39 [==============================] - 1s 32ms/step - loss: 0.5156 - auc_2: 0.8300 - precision_at_recall_2: 0.7171\n",
      "Epoch 13/15\n",
      "39/39 [==============================] - 1s 32ms/step - loss: 0.5070 - auc_2: 0.8403 - precision_at_recall_2: 0.6986\n",
      "Epoch 14/15\n",
      "39/39 [==============================] - 1s 29ms/step - loss: 0.5044 - auc_2: 0.8388 - precision_at_recall_2: 0.7124\n",
      "Epoch 15/15\n",
      "39/39 [==============================] - 1s 29ms/step - loss: 0.4935 - auc_2: 0.8469 - precision_at_recall_2: 0.7307\n"
     ]
    },
    {
     "data": {
      "text/plain": [
       "<keras.callbacks.History at 0x7fdef3f82610>"
      ]
     },
     "execution_count": 46,
     "metadata": {},
     "output_type": "execute_result"
    }
   ],
   "source": [
    "batch_size=64\n",
    "num_epochs = 15\n",
    "    \n",
    "model = Sequential()\n",
    "\n",
    "model.add((Conv1D(filters=32, kernel_size=3, activation='relu')))\n",
    "model.add((Conv1D(filters=64, kernel_size=3, activation='relu')))\n",
    "model.add((MaxPooling1D(pool_size=2)))\n",
    "model.add(Dropout(0.25))\n",
    "model.add((Conv1D(filters=64, kernel_size=3, activation='relu')))\n",
    "model.add((MaxPooling1D(pool_size=2)))\n",
    "model.add(Dropout(0.25))\n",
    "model.add((Conv1D(filters=128, kernel_size=3, activation='relu')))\n",
    "model.add((MaxPooling1D(pool_size=2)))\n",
    "model.add(Dropout(0.25))\n",
    "model.add(Flatten())\n",
    "model.add(Dense(100, activation='sigmoid'))\n",
    "model.add(Dense(1, activation='sigmoid'))\n",
    "\n",
    "adam = tf.optimizers.Adam(learning_rate=0.001, beta_1=0.9, beta_2=0.999, epsilon=None, decay=0.0)\n",
    "\n",
    "model.compile(optimizer=adam, loss='binary_crossentropy', metrics=[tf.keras.metrics.AUC(curve='PR'),\n",
    "                                                                   tf.keras.metrics.PrecisionAtRecall(0.8)])\n",
    "\n",
    "model.fit(trainX, trainY, epochs = num_epochs, batch_size=batch_size)"
   ]
  },
  {
   "cell_type": "markdown",
   "metadata": {},
   "source": [
    "# Model Evaluation "
   ]
  },
  {
   "cell_type": "code",
   "execution_count": 47,
   "metadata": {},
   "outputs": [
    {
     "name": "stdout",
     "output_type": "stream",
     "text": [
      "20/20 [==============================] - 1s 7ms/step - loss: 0.4988 - auc_2: 0.8438 - precision_at_recall_2: 0.6977\n"
     ]
    },
    {
     "data": {
      "text/plain": [
       "[0.4987703561782837, 0.843826413154602, 0.6976743936538696]"
      ]
     },
     "execution_count": 47,
     "metadata": {},
     "output_type": "execute_result"
    }
   ],
   "source": [
    "model.evaluate(testX,testY)"
   ]
  },
  {
   "cell_type": "code",
   "execution_count": null,
   "metadata": {},
   "outputs": [],
   "source": []
  }
 ],
 "metadata": {
  "kernelspec": {
   "display_name": "Python 3 (ipykernel)",
   "language": "python",
   "name": "python3"
  },
  "language_info": {
   "codemirror_mode": {
    "name": "ipython",
    "version": 3
   },
   "file_extension": ".py",
   "mimetype": "text/x-python",
   "name": "python",
   "nbconvert_exporter": "python",
   "pygments_lexer": "ipython3",
   "version": "3.9.7"
  }
 },
 "nbformat": 4,
 "nbformat_minor": 2
}
