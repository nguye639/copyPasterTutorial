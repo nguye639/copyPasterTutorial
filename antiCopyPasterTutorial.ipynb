{
 "cells": [
  {
   "cell_type": "markdown",
   "metadata": {},
   "source": [
    "# Setting Up Environment\n",
    "\n",
    "## Needed Libraries\n",
    "- Numpy\n",
    "- Pandas\n",
    "- Matplotlib\n",
    "- Sklearn\n",
    "- Tensorflow\n",
    "\n",
    "### pip install -r requirements.txt\n",
    "### bash createEnv.sh for virtual environment (need virtualenv installed)"
   ]
  },
  {
   "cell_type": "markdown",
   "metadata": {},
   "source": [
    "# Import Libraries"
   ]
  },
  {
   "cell_type": "code",
   "execution_count": 1,
   "metadata": {},
   "outputs": [],
   "source": [
    "import pandas as pd\n",
    "import numpy as np\n",
    "import matplotlib.pyplot as plt\n",
    "import sklearn\n",
    "import tensorflow as tf"
   ]
  },
  {
   "cell_type": "markdown",
   "metadata": {},
   "source": [
    "# Load Data\n",
    "\n",
    "The dataset consists of 13 mature projects from the Apache Software Foundation, which are popular open-source Java projects hosted on GitHub. These curated projects were selected with respect to both project size and activity.\n",
    "The goal of selecting metrics is to identify patterns in their values to allow distinguishing between the two classes of fragments. To do so, we gathered all the metrics that have been extensively used in previous studies and then removed all the redundant metrics to avoid generating features with similar values. In total,we selected 78 metrics that can be related to the code fragments, enclosing methods, and coupling.\n"
   ]
  },
  {
   "cell_type": "code",
   "execution_count": 6,
   "metadata": {},
   "outputs": [],
   "source": [
    "metrics = pd.read_csv('metricData.zip', index_col=0).drop_duplicates()"
   ]
  },
  {
   "cell_type": "code",
   "execution_count": 8,
   "metadata": {},
   "outputs": [
    {
     "data": {
      "text/html": [
       "<div>\n",
       "<style scoped>\n",
       "    .dataframe tbody tr th:only-of-type {\n",
       "        vertical-align: middle;\n",
       "    }\n",
       "\n",
       "    .dataframe tbody tr th {\n",
       "        vertical-align: top;\n",
       "    }\n",
       "\n",
       "    .dataframe thead th {\n",
       "        text-align: right;\n",
       "    }\n",
       "</style>\n",
       "<table border=\"1\" class=\"dataframe\">\n",
       "  <thead>\n",
       "    <tr style=\"text-align: right;\">\n",
       "      <th></th>\n",
       "      <th>TotalLinesOfCode</th>\n",
       "      <th>TotalSymbols</th>\n",
       "      <th>SymbolsPerLine</th>\n",
       "      <th>Area</th>\n",
       "      <th>AreaPerLine</th>\n",
       "      <th>TotalConnectivity</th>\n",
       "      <th>TotalConnectivityPerLine</th>\n",
       "      <th>FieldConnectivity</th>\n",
       "      <th>FieldConnectivityPerLine</th>\n",
       "      <th>MethodConnectivity</th>\n",
       "      <th>...</th>\n",
       "      <th>KeywordLongCountPerLine</th>\n",
       "      <th>KeywordStrictfpTotalCount</th>\n",
       "      <th>KeywordStrictfpCountPerLine</th>\n",
       "      <th>KeywordFloatTotalCount</th>\n",
       "      <th>KeywordFloatCountPerLine</th>\n",
       "      <th>KeywordSuperTotalCount</th>\n",
       "      <th>KeywordSuperCountPerLine</th>\n",
       "      <th>KeywordWhileTotalCount</th>\n",
       "      <th>KeywordWhileCountPerLine</th>\n",
       "      <th>label</th>\n",
       "    </tr>\n",
       "  </thead>\n",
       "  <tbody>\n",
       "    <tr>\n",
       "      <th>0</th>\n",
       "      <td>25.0</td>\n",
       "      <td>1127.0</td>\n",
       "      <td>45.080000</td>\n",
       "      <td>63.0</td>\n",
       "      <td>2.520000</td>\n",
       "      <td>1.0</td>\n",
       "      <td>0.033333</td>\n",
       "      <td>1.0</td>\n",
       "      <td>0.033333</td>\n",
       "      <td>0.0</td>\n",
       "      <td>...</td>\n",
       "      <td>0.0</td>\n",
       "      <td>0.0</td>\n",
       "      <td>0.0</td>\n",
       "      <td>0.0</td>\n",
       "      <td>0.0</td>\n",
       "      <td>0.0</td>\n",
       "      <td>0.0</td>\n",
       "      <td>0.0</td>\n",
       "      <td>0.0</td>\n",
       "      <td>0</td>\n",
       "    </tr>\n",
       "    <tr>\n",
       "      <th>1</th>\n",
       "      <td>6.0</td>\n",
       "      <td>170.0</td>\n",
       "      <td>28.333333</td>\n",
       "      <td>1.0</td>\n",
       "      <td>0.166667</td>\n",
       "      <td>0.0</td>\n",
       "      <td>0.000000</td>\n",
       "      <td>0.0</td>\n",
       "      <td>0.000000</td>\n",
       "      <td>0.0</td>\n",
       "      <td>...</td>\n",
       "      <td>0.0</td>\n",
       "      <td>0.0</td>\n",
       "      <td>0.0</td>\n",
       "      <td>0.0</td>\n",
       "      <td>0.0</td>\n",
       "      <td>0.0</td>\n",
       "      <td>0.0</td>\n",
       "      <td>0.0</td>\n",
       "      <td>0.0</td>\n",
       "      <td>0</td>\n",
       "    </tr>\n",
       "    <tr>\n",
       "      <th>2</th>\n",
       "      <td>2.0</td>\n",
       "      <td>39.0</td>\n",
       "      <td>19.500000</td>\n",
       "      <td>0.0</td>\n",
       "      <td>0.000000</td>\n",
       "      <td>2.0</td>\n",
       "      <td>1.000000</td>\n",
       "      <td>1.0</td>\n",
       "      <td>0.500000</td>\n",
       "      <td>1.0</td>\n",
       "      <td>...</td>\n",
       "      <td>0.0</td>\n",
       "      <td>0.0</td>\n",
       "      <td>0.0</td>\n",
       "      <td>0.0</td>\n",
       "      <td>0.0</td>\n",
       "      <td>0.0</td>\n",
       "      <td>0.0</td>\n",
       "      <td>0.0</td>\n",
       "      <td>0.0</td>\n",
       "      <td>0</td>\n",
       "    </tr>\n",
       "    <tr>\n",
       "      <th>3</th>\n",
       "      <td>6.0</td>\n",
       "      <td>223.0</td>\n",
       "      <td>37.166667</td>\n",
       "      <td>3.0</td>\n",
       "      <td>0.500000</td>\n",
       "      <td>1.0</td>\n",
       "      <td>0.200000</td>\n",
       "      <td>1.0</td>\n",
       "      <td>0.200000</td>\n",
       "      <td>0.0</td>\n",
       "      <td>...</td>\n",
       "      <td>0.0</td>\n",
       "      <td>0.0</td>\n",
       "      <td>0.0</td>\n",
       "      <td>0.0</td>\n",
       "      <td>0.0</td>\n",
       "      <td>0.0</td>\n",
       "      <td>0.0</td>\n",
       "      <td>0.0</td>\n",
       "      <td>0.0</td>\n",
       "      <td>0</td>\n",
       "    </tr>\n",
       "    <tr>\n",
       "      <th>4</th>\n",
       "      <td>2.0</td>\n",
       "      <td>111.0</td>\n",
       "      <td>55.500000</td>\n",
       "      <td>0.0</td>\n",
       "      <td>0.000000</td>\n",
       "      <td>1.0</td>\n",
       "      <td>0.333333</td>\n",
       "      <td>1.0</td>\n",
       "      <td>0.333333</td>\n",
       "      <td>0.0</td>\n",
       "      <td>...</td>\n",
       "      <td>0.0</td>\n",
       "      <td>0.0</td>\n",
       "      <td>0.0</td>\n",
       "      <td>0.0</td>\n",
       "      <td>0.0</td>\n",
       "      <td>0.0</td>\n",
       "      <td>0.0</td>\n",
       "      <td>0.0</td>\n",
       "      <td>0.0</td>\n",
       "      <td>0</td>\n",
       "    </tr>\n",
       "  </tbody>\n",
       "</table>\n",
       "<p>5 rows × 79 columns</p>\n",
       "</div>"
      ],
      "text/plain": [
       "   TotalLinesOfCode  TotalSymbols  SymbolsPerLine  Area  AreaPerLine  \\\n",
       "0              25.0        1127.0       45.080000  63.0     2.520000   \n",
       "1               6.0         170.0       28.333333   1.0     0.166667   \n",
       "2               2.0          39.0       19.500000   0.0     0.000000   \n",
       "3               6.0         223.0       37.166667   3.0     0.500000   \n",
       "4               2.0         111.0       55.500000   0.0     0.000000   \n",
       "\n",
       "   TotalConnectivity  TotalConnectivityPerLine  FieldConnectivity  \\\n",
       "0                1.0                  0.033333                1.0   \n",
       "1                0.0                  0.000000                0.0   \n",
       "2                2.0                  1.000000                1.0   \n",
       "3                1.0                  0.200000                1.0   \n",
       "4                1.0                  0.333333                1.0   \n",
       "\n",
       "   FieldConnectivityPerLine  MethodConnectivity  ...  KeywordLongCountPerLine  \\\n",
       "0                  0.033333                 0.0  ...                      0.0   \n",
       "1                  0.000000                 0.0  ...                      0.0   \n",
       "2                  0.500000                 1.0  ...                      0.0   \n",
       "3                  0.200000                 0.0  ...                      0.0   \n",
       "4                  0.333333                 0.0  ...                      0.0   \n",
       "\n",
       "   KeywordStrictfpTotalCount  KeywordStrictfpCountPerLine  \\\n",
       "0                        0.0                          0.0   \n",
       "1                        0.0                          0.0   \n",
       "2                        0.0                          0.0   \n",
       "3                        0.0                          0.0   \n",
       "4                        0.0                          0.0   \n",
       "\n",
       "   KeywordFloatTotalCount  KeywordFloatCountPerLine  KeywordSuperTotalCount  \\\n",
       "0                     0.0                       0.0                     0.0   \n",
       "1                     0.0                       0.0                     0.0   \n",
       "2                     0.0                       0.0                     0.0   \n",
       "3                     0.0                       0.0                     0.0   \n",
       "4                     0.0                       0.0                     0.0   \n",
       "\n",
       "   KeywordSuperCountPerLine  KeywordWhileTotalCount  KeywordWhileCountPerLine  \\\n",
       "0                       0.0                     0.0                       0.0   \n",
       "1                       0.0                     0.0                       0.0   \n",
       "2                       0.0                     0.0                       0.0   \n",
       "3                       0.0                     0.0                       0.0   \n",
       "4                       0.0                     0.0                       0.0   \n",
       "\n",
       "   label  \n",
       "0      0  \n",
       "1      0  \n",
       "2      0  \n",
       "3      0  \n",
       "4      0  \n",
       "\n",
       "[5 rows x 79 columns]"
      ]
     },
     "execution_count": 8,
     "metadata": {},
     "output_type": "execute_result"
    }
   ],
   "source": [
    "metrics.head()"
   ]
  },
  {
   "cell_type": "markdown",
   "metadata": {},
   "source": [
    "# Class Imbalance\n",
    "\n",
    "We see that there is high class imbalance in our data between negative (should not be refactored) and postive (should be refactored) samples. This will cause an issue further on when we train our model because it will favor labeling everything as negative because that is what it is seeing in the data (we could achieve 90%+ accuracy by guessing everything is negative, because 90%+ of the data is negative samples). "
   ]
  },
  {
   "cell_type": "code",
   "execution_count": 9,
   "metadata": {},
   "outputs": [
    {
     "data": {
      "image/png": "[encoded data removed]",
      "text/plain": [
       "<Figure size 432x288 with 1 Axes>"
      ]
     },
     "metadata": {
      "needs_background": "light"
     },
     "output_type": "display_data"
    }
   ],
   "source": [
    "positives = metrics[metrics[\"label\"] == 1]\n",
    "negatives = metrics[metrics[\"label\"] == 0]\n",
    "\n",
    "plt.bar([\"Positive\",\"Negative\"],[len(positives),len(negatives)]);"
   ]
  },
  {
   "cell_type": "code",
   "execution_count": 10,
   "metadata": {},
   "outputs": [
    {
     "data": {
      "image/png": "[encoded data removed]",
      "text/plain": [
       "<Figure size 432x288 with 1 Axes>"
      ]
     },
     "metadata": {
      "needs_background": "light"
     },
     "output_type": "display_data"
    }
   ],
   "source": [
    "balanceNegatives = negatives.sample(frac=1)[:len(positives)]\n",
    "\n",
    "plt.bar([\"Positive\",\"Negative\"],[len(positives),len(balanceNegatives)]);"
   ]
  },
  {
   "cell_type": "code",
   "execution_count": 14,
   "metadata": {},
   "outputs": [],
   "source": [
    "balanceMetrics = pd.concat([positives,balanceNegatives]).sample(frac = 1)"
   ]
  },
  {
   "cell_type": "markdown",
   "metadata": {},
   "source": [
    "# Data Processing\n",
    "\n",
    "Here we will process our data for our model. This processing will include\n",
    "- feature-label separation \n",
    "- train-test split\n",
    "- feature normalization\n",
    "- shaping feature vectors"
   ]
  },
  {
   "cell_type": "code",
   "execution_count": 15,
   "metadata": {},
   "outputs": [],
   "source": [
    "from sklearn.preprocessing import StandardScaler"
   ]
  },
  {
   "cell_type": "code",
   "execution_count": 16,
   "metadata": {},
   "outputs": [],
   "source": [
    "features = balanceMetrics.iloc[:,:-1]\n",
    "labels = balanceMetrics.iloc[:,-1]"
   ]
  },
  {
   "cell_type": "code",
   "execution_count": 17,
   "metadata": {},
   "outputs": [],
   "source": [
    "trainX = features.iloc[:int(.8*len(features))]\n",
    "trainY = labels.iloc[:int(.8*len(features))]\n",
    "\n",
    "testX = features.iloc[int(.8*len(features)):]\n",
    "testY = labels.iloc[int(.8*len(features)):]"
   ]
  },
  {
   "cell_type": "code",
   "execution_count": 18,
   "metadata": {},
   "outputs": [],
   "source": [
    "scaler = StandardScaler()\n",
    "scaler.fit(trainX)\n",
    "trainX = scaler.transform(trainX)\n",
    "testX = scaler.transform(testX)\n"
   ]
  },
  {
   "cell_type": "code",
   "execution_count": 19,
   "metadata": {},
   "outputs": [
    {
     "name": "stderr",
     "output_type": "stream",
     "text": [
      "/var/folders/fr/03zv9zcj7j146mrr4jsb58kw0000gn/T/ipykernel_4356/1448998680.py:3: FutureWarning: Support for multi-dimensional indexing (e.g. `obj[:, None]`) is deprecated and will be removed in a future version.  Convert to a numpy array before indexing instead.\n",
      "  trainY = trainY[..., None]\n",
      "/var/folders/fr/03zv9zcj7j146mrr4jsb58kw0000gn/T/ipykernel_4356/1448998680.py:6: FutureWarning: Support for multi-dimensional indexing (e.g. `obj[:, None]`) is deprecated and will be removed in a future version.  Convert to a numpy array before indexing instead.\n",
      "  testY = testY[..., None]\n"
     ]
    }
   ],
   "source": [
    "#Reshape data for CNN\n",
    "trainX = trainX[..., None]\n",
    "trainY = trainY[..., None]\n",
    "\n",
    "testX = testX[..., None]\n",
    "testY = testY[..., None]"
   ]
  },
  {
   "cell_type": "markdown",
   "metadata": {},
   "source": [
    "# Model Creation\n",
    "\n",
    "We will create our Convolutional Neural Network here by stacking together many sequential layers. These layers can be change as long as the end layer is a single dense node that gives our prediction.\n",
    "\n",
    "Layers used are:\n",
    "- 1D convolution layers\n",
    "- Max Pooling Layers\n",
    "- Dropout \"Layers\"\n",
    "- Fully Connected Dense Layers\n",
    "\n",
    "## Model Training\n",
    "\n",
    "After building our model, we will train it on the processed training data we created above. The model will learn that data and then we can evaluate its accuracy."
   ]
  },
  {
   "cell_type": "code",
   "execution_count": 20,
   "metadata": {},
   "outputs": [],
   "source": [
    "from keras.models import Sequential\n",
    "from keras.layers import Dense\n",
    "from keras.layers import Flatten\n",
    "from keras.layers import Dropout\n",
    "from tensorflow.keras import layers, models\n",
    "from keras.layers.convolutional import Conv1D\n",
    "from keras.layers.convolutional import MaxPooling1D"
   ]
  },
  {
   "cell_type": "code",
   "execution_count": 29,
   "metadata": {},
   "outputs": [],
   "source": [
    "batch_size=64\n",
    "num_epochs = 15\n",
    "    \n",
    "model = Sequential()\n",
    "\n",
    "model.add((Conv1D(filters=32, kernel_size=3, activation='relu')))\n",
    "model.add((Conv1D(filters=64, kernel_size=3, activation='relu')))\n",
    "model.add((MaxPooling1D(pool_size=2)))\n",
    "model.add(Dropout(0.25))\n",
    "model.add((Conv1D(filters=64, kernel_size=3, activation='relu')))\n",
    "model.add((MaxPooling1D(pool_size=2)))\n",
    "model.add(Dropout(0.25))\n",
    "model.add((Conv1D(filters=128, kernel_size=3, activation='relu')))\n",
    "model.add((MaxPooling1D(pool_size=2)))\n",
    "model.add(Dropout(0.25))\n",
    "model.add(Flatten())\n",
    "model.add(Dense(100, activation='sigmoid'))\n",
    "model.add(Dense(1, activation='sigmoid'))\n",
    "\n",
    "adam = tf.optimizers.Adam(learning_rate=0.001, beta_1=0.9, beta_2=0.999, epsilon=None, decay=0.0)\n",
    "\n",
    "model.compile(optimizer=adam, loss='binary_crossentropy', metrics=[\"accuracy\",\n",
    "                                                                  tf.keras.metrics.Precision(),\n",
    "                                                                  tf.keras.metrics.Recall()])"
   ]
  },
  {
   "cell_type": "code",
   "execution_count": 30,
   "metadata": {},
   "outputs": [
    {
     "name": "stdout",
     "output_type": "stream",
     "text": [
      "Epoch 1/15\n",
      "35/35 [==============================] - 2s 30ms/step - loss: 0.6876 - accuracy: 0.5784 - precision_1: 0.5877 - recall: 0.5531\n",
      "Epoch 2/15\n",
      "35/35 [==============================] - 1s 28ms/step - loss: 0.6618 - accuracy: 0.6068 - precision_1: 0.6330 - recall: 0.5263\n",
      "Epoch 3/15\n",
      "35/35 [==============================] - 1s 27ms/step - loss: 0.6299 - accuracy: 0.6437 - precision_1: 0.6687 - recall: 0.5834\n",
      "Epoch 4/15\n",
      "35/35 [==============================] - 1s 28ms/step - loss: 0.6042 - accuracy: 0.6671 - precision_1: 0.6823 - recall: 0.6378\n",
      "Epoch 5/15\n",
      "35/35 [==============================] - 1s 31ms/step - loss: 0.5864 - accuracy: 0.6874 - precision_1: 0.6975 - recall: 0.6726\n",
      "Epoch 6/15\n",
      "35/35 [==============================] - 1s 34ms/step - loss: 0.5677 - accuracy: 0.7000 - precision_1: 0.7148 - recall: 0.6753\n",
      "Epoch 7/15\n",
      "35/35 [==============================] - 1s 34ms/step - loss: 0.5523 - accuracy: 0.7032 - precision_1: 0.7108 - recall: 0.6949\n",
      "Epoch 8/15\n",
      "35/35 [==============================] - 1s 32ms/step - loss: 0.5400 - accuracy: 0.7275 - precision_1: 0.7457 - recall: 0.6985\n",
      "Epoch 9/15\n",
      "35/35 [==============================] - 1s 32ms/step - loss: 0.5360 - accuracy: 0.7162 - precision_1: 0.7377 - recall: 0.6798\n",
      "Epoch 10/15\n",
      "35/35 [==============================] - 1s 32ms/step - loss: 0.5302 - accuracy: 0.7320 - precision_1: 0.7505 - recall: 0.7029\n",
      "Epoch 11/15\n",
      "35/35 [==============================] - 1s 31ms/step - loss: 0.5164 - accuracy: 0.7369 - precision_1: 0.7479 - recall: 0.7226\n",
      "Epoch 12/15\n",
      "35/35 [==============================] - 1s 30ms/step - loss: 0.5118 - accuracy: 0.7360 - precision_1: 0.7498 - recall: 0.7163\n",
      "Epoch 13/15\n",
      "35/35 [==============================] - 1s 32ms/step - loss: 0.5013 - accuracy: 0.7450 - precision_1: 0.7640 - recall: 0.7163\n",
      "Epoch 14/15\n",
      "35/35 [==============================] - 1s 31ms/step - loss: 0.4953 - accuracy: 0.7432 - precision_1: 0.7511 - recall: 0.7351\n",
      "Epoch 15/15\n",
      "35/35 [==============================] - 1s 29ms/step - loss: 0.4854 - accuracy: 0.7586 - precision_1: 0.7788 - recall: 0.7288\n"
     ]
    },
    {
     "data": {
      "text/plain": [
       "<keras.callbacks.History at 0x7feac1f3ae50>"
      ]
     },
     "execution_count": 30,
     "metadata": {},
     "output_type": "execute_result"
    }
   ],
   "source": [
    "model.fit(trainX, trainY, epochs = num_epochs, batch_size=batch_size)"
   ]
  },
  {
   "cell_type": "markdown",
   "metadata": {},
   "source": [
    "# Model Evaluation \n",
    "\n",
    "Once our model is trained, we want to test the actual accuracy on our test set. We also want to ensure that we did not over train our model on our training set. First we will check the inital accuracy of the model, then check for over training with Kfolds cross validation.\n",
    "\n",
    "The metrics we want to use to evaluate our model are:\n",
    "- Accuracy \n",
    "- Precision \n",
    "- Recall"
   ]
  },
  {
   "cell_type": "code",
   "execution_count": 31,
   "metadata": {},
   "outputs": [],
   "source": [
    "from sklearn.model_selection import KFold\n",
    "from sklearn.metrics import confusion_matrix"
   ]
  },
  {
   "cell_type": "code",
   "execution_count": 38,
   "metadata": {},
   "outputs": [],
   "source": [
    "def newModel():\n",
    "    \n",
    "    model = Sequential()\n",
    "\n",
    "    model.add((Conv1D(filters=32, kernel_size=3, activation='relu')))\n",
    "    model.add((Conv1D(filters=64, kernel_size=3, activation='relu')))\n",
    "    model.add((MaxPooling1D(pool_size=2)))\n",
    "    model.add(Dropout(0.25))\n",
    "    model.add((Conv1D(filters=64, kernel_size=3, activation='relu')))\n",
    "    model.add((MaxPooling1D(pool_size=2)))\n",
    "    model.add(Dropout(0.25))\n",
    "    model.add((Conv1D(filters=128, kernel_size=3, activation='relu')))\n",
    "    model.add((MaxPooling1D(pool_size=2)))\n",
    "    model.add(Dropout(0.25))\n",
    "    model.add(Flatten())\n",
    "    model.add(Dense(100, activation='sigmoid'))\n",
    "    model.add(Dense(1, activation='sigmoid'))\n",
    "\n",
    "    adam = tf.optimizers.Adam(learning_rate=0.001, beta_1=0.9, beta_2=0.999, epsilon=None, decay=0.0)\n",
    "\n",
    "    model.compile(optimizer=adam, loss='binary_crossentropy', metrics=[\"accuracy\",\n",
    "                                                                  tf.keras.metrics.Precision(),\n",
    "                                                                  tf.keras.metrics.Recall()])\n",
    "    return model\n"
   ]
  },
  {
   "cell_type": "code",
   "execution_count": 39,
   "metadata": {},
   "outputs": [
    {
     "name": "stdout",
     "output_type": "stream",
     "text": [
      "18/18 [==============================] - 0s 5ms/step - loss: 0.4613 - auc_6: 0.8569 - precision_at_recall_6: 0.7224\n"
     ]
    },
    {
     "data": {
      "text/plain": [
       "[0.46134960651397705, 0.8568755984306335, 0.7224080562591553]"
      ]
     },
     "execution_count": 39,
     "metadata": {},
     "output_type": "execute_result"
    }
   ],
   "source": [
    "model.evaluate(testX,testY)"
   ]
  },
  {
   "cell_type": "code",
   "execution_count": 42,
   "metadata": {},
   "outputs": [
    {
     "name": "stdout",
     "output_type": "stream",
     "text": [
      "fold 1: accuracy of 0.7589927911758423; precision_8 of 0.748344361782074; recall_7 of 0.7957746386528015\n",
      "fold 2: accuracy of 0.730215847492218; precision_9 of 0.7592592835426331; recall_8 of 0.6259542107582092\n",
      "fold 3: accuracy of 0.7841726541519165; precision_10 of 0.7844827771186829; recall_9 of 0.7222222089767456\n",
      "fold 4: accuracy of 0.7446042895317078; precision_11 of 0.8095238208770752; recall_10 of 0.6845637559890747\n",
      "fold 5: accuracy of 0.6870503425598145; precision_12 of 0.7307692170143127; recall_11 of 0.5629629492759705\n",
      "fold 6: accuracy of 0.7589927911758423; precision_13 of 0.7365269660949707; recall_12 of 0.8424657583236694\n",
      "fold 7: accuracy of 0.7148014307022095; precision_14 of 0.75; recall_13 of 0.6938775777816772\n",
      "fold 8: accuracy of 0.7328519821166992; precision_15 of 0.738095223903656; recall_14 of 0.6940298676490784\n",
      "fold 9: accuracy of 0.7328519821166992; precision_16 of 0.7111111283302307; recall_15 of 0.732824444770813\n",
      "fold 10: accuracy of 0.750902533531189; precision_17 of 0.824999988079071; recall_16 of 0.6734693646430969\n"
     ]
    }
   ],
   "source": [
    "X = np.concatenate([trainX, testX])\n",
    "Y = np.concatenate([trainY, testY])\n",
    "\n",
    "batch=64\n",
    "num_epochs = 15\n",
    "\n",
    "kfold = KFold(n_splits=10, shuffle=True)\n",
    "fold_no = 1\n",
    "\n",
    "accuracy = []\n",
    "precision = []\n",
    "recall = []\n",
    "\n",
    "for train, test in kfold.split(X, Y):\n",
    "    model = newModel()\n",
    "    history = model.fit(X[train], Y[train], epochs = num_epochs, batch_size=batch, verbose = 0)\n",
    "    scores = model.evaluate(X[test], Y[test], verbose=0)\n",
    "    print(f'fold {fold_no}: {model.metrics_names[1]} of {scores[1]}; {model.metrics_names[2]} of {scores[2]}; {model.metrics_names[3]} of {scores[3]}')\n",
    "    fold_no = fold_no + 1\n",
    "    \n",
    "    accuracy.append(scores[1])\n",
    "    precision.append(scores[2])\n",
    "    recall.append(scores[3])\n",
    "    \n"
   ]
  },
  {
   "cell_type": "code",
   "execution_count": 51,
   "metadata": {},
   "outputs": [
    {
     "data": {
      "image/png": "[encoded data removed]",
      "text/plain": [
       "<Figure size 1440x432 with 3 Axes>"
      ]
     },
     "metadata": {
      "needs_background": "light"
     },
     "output_type": "display_data"
    }
   ],
   "source": [
    "folds = np.arange(1,11,1)\n",
    "\n",
    "plt.figure(figsize = (20,6))\n",
    "\n",
    "plt.subplot(1,3,1)\n",
    "plt.plot(folds,accuracy)\n",
    "plt.plot(folds,np.full(len(folds),np.mean(accuracy)))\n",
    "plt.title(\"Accuracy\")\n",
    "plt.xlabel(\"Fold\")\n",
    "\n",
    "plt.subplot(1,3,2)\n",
    "plt.plot(folds,precision)\n",
    "plt.plot(folds,np.full(len(folds),np.mean(precision)))\n",
    "plt.title(\"Precision\")\n",
    "plt.xlabel(\"Fold\")\n",
    "\n",
    "plt.subplot(1,3,3)\n",
    "plt.plot(folds,recall)\n",
    "plt.plot(folds,np.full(len(folds),np.mean(recall)))\n",
    "plt.title(\"Recall\")\n",
    "plt.xlabel(\"Fold\");\n"
   ]
  },
  {
   "cell_type": "code",
   "execution_count": null,
   "metadata": {},
   "outputs": [],
   "source": []
  }
 ],
 "metadata": {
  "kernelspec": {
   "display_name": "Python 3 (ipykernel)",
   "language": "python",
   "name": "python3"
  },
  "language_info": {
   "codemirror_mode": {
    "name": "ipython",
    "version": 3
   },
   "file_extension": ".py",
   "mimetype": "text/x-python",
   "name": "python",
   "nbconvert_exporter": "python",
   "pygments_lexer": "ipython3",
   "version": "3.9.7"
  }
 },
 "nbformat": 4,
 "nbformat_minor": 2
}
